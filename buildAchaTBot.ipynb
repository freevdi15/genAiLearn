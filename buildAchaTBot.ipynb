{
 "cells": [
  {
   "cell_type": "code",
   "execution_count": 8,
   "metadata": {},
   "outputs": [],
   "source": [
    "##  open Source models - Llama3 , Gemma2 ,mistral--Groq\n",
    "import os\n",
    "from dotenv  import load_dotenv\n",
    "\n",
    "load_dotenv()\n",
    "import openai\n",
    "openai.api_key = os.getenv(\"OPENAI_API_KEY\")\n",
    "groq_api_key = os.getenv(\"GROQ_API_KEY\")"
   ]
  },
  {
   "cell_type": "markdown",
   "metadata": {},
   "source": [
    "Create a coversational chat bot with history"
   ]
  },
  {
   "cell_type": "code",
   "execution_count": 9,
   "metadata": {},
   "outputs": [],
   "source": [
    "from langchain_groq import ChatGroq     \n",
    "model = ChatGroq( model_name=\"gemma2-9b-it\",groq_api_key=groq_api_key)\n",
    "## update api key "
   ]
  },
  {
   "cell_type": "code",
   "execution_count": 10,
   "metadata": {},
   "outputs": [
    {
     "data": {
      "text/plain": [
       "AIMessage(content=\"Hello Das! \\n\\nIt's great that you're interested in learning about generative AI! It's a fascinating and rapidly evolving field. \\n\\nTo help me guide you, could you tell me a little more about what you'd like to learn? For example:\\n\\n* **What's your current level of understanding of AI?** (Beginner, some knowledge, etc.)\\n* **What specifically interests you about generative AI?** (Text generation, image creation, music composition, etc.)\\n* **What are your goals for learning about generative AI?** (Personal curiosity, professional development, etc.)\\n\\nOnce I have a better understanding of your background and interests, I can provide you with more relevant and helpful information.\\n\\nIn the meantime, here are some general resources that you might find useful:\\n\\n* **OpenAI's blog:** https://openai.com/blog/\\n* **Google AI blog:** https://ai.googleblog.com/\\n* **Stanford's CS224N: Natural Language Processing with Deep Learning:** https://web.stanford.edu/class/cs224n/\\n\\nLooking forward to helping you on your generative AI journey!\\n\", response_metadata={'token_usage': {'completion_tokens': 251, 'prompt_tokens': 18, 'total_tokens': 269, 'completion_time': 0.456363636, 'prompt_time': 0.001943837, 'queue_time': 0.233132743, 'total_time': 0.458307473}, 'model_name': 'gemma2-9b-it', 'system_fingerprint': 'fp_10c08bf97d', 'finish_reason': 'stop', 'logprobs': None}, id='run-a4c46744-dd20-4573-b526-51ae4aeec922-0', usage_metadata={'input_tokens': 18, 'output_tokens': 251, 'total_tokens': 269})"
      ]
     },
     "execution_count": 10,
     "metadata": {},
     "output_type": "execute_result"
    }
   ],
   "source": [
    "from langchain_core.messages import HumanMessage\n",
    "model.invoke([HumanMessage(content=\"Hi i am das trying to learn gen ai\")])"
   ]
  },
  {
   "cell_type": "code",
   "execution_count": 11,
   "metadata": {},
   "outputs": [
    {
     "data": {
      "text/plain": [
       "AIMessage(content=\"It's great that you're interested in becoming a Gen AI developer! That's a really exciting field right now.  \\n\\nSince you're just starting out,  it's helpful to think about what specifically interests you about Gen AI.  Here are some areas you could explore:\\n\\n**Core Technologies:**\\n\\n* **Deep Learning:** This is the foundation of most Gen AI models. Understanding concepts like neural networks, transformers, and different training techniques is essential.\\n* **Natural Language Processing (NLP):** If you're interested in text generation, translation, or understanding human language, NLP is key.\\n* **Computer Vision:** For generating images, videos, or understanding visual content, computer vision skills are important.\\n\\n**Applications:**\\n\\n* **Text Generation:**  Chatbots, story writing, code generation, summarization, dialogue systems.\\n* **Image Generation:** Creating new images from text descriptions, editing existing images, generating art.\\n* **Multimodal AI:** Combining text, image, audio, and other data types to create richer experiences.\\n\\n**Tools and Frameworks:**\\n\\n* **Python:**  The most popular language for AI development.\\n* **TensorFlow/PyTorch:**  Leading deep learning frameworks.\\n* **Hugging Face Transformers:**  A library with pre-trained models for various NLP tasks.\\n* **OpenAI API:**  Access to powerful Gen AI models like GPT-3.\\n\\n**Think about:**\\n\\n* **What problems do you want to solve with Gen AI?**\\n* **What type of creative projects excite you?** \\n* **What are your strengths and weaknesses?**\\n\\nOnce you have a better idea of your interests, you can start focusing your learning and exploring different resources. \\n\\nLet me know if you have any more questions or want to brainstorm ideas!\\n\", response_metadata={'token_usage': {'completion_tokens': 380, 'prompt_tokens': 54, 'total_tokens': 434, 'completion_time': 0.690909091, 'prompt_time': 0.003653684, 'queue_time': 0.241810924, 'total_time': 0.694562775}, 'model_name': 'gemma2-9b-it', 'system_fingerprint': 'fp_10c08bf97d', 'finish_reason': 'stop', 'logprobs': None}, id='run-42121984-0487-4918-a920-0d84e6d5f01c-0', usage_metadata={'input_tokens': 54, 'output_tokens': 380, 'total_tokens': 434})"
      ]
     },
     "execution_count": 11,
     "metadata": {},
     "output_type": "execute_result"
    }
   ],
   "source": [
    "from langchain_core.messages import AIMessage\n",
    "model.invoke([HumanMessage(content=\"Hi my name is Das , i am tring to become a gen ai deeveloper\"),AIMessage(content=\"Hi das, how can I help you today?\"),\n",
    "              HumanMessage(content=\"What i am doing what are my interests\")])"
   ]
  },
  {
   "cell_type": "markdown",
   "metadata": {},
   "source": [
    "###  message history \n",
    "we can use a message history to keep track of the conversation and make it statepful"
   ]
  },
  {
   "cell_type": "code",
   "execution_count": 12,
   "metadata": {},
   "outputs": [],
   "source": [
    "from langchain_community.chat_message_histories import ChatMessageHistory\n",
    "from langchain_core.chat_history import BaseChatMessageHistory\n",
    "from langchain_core.runnables.history import RunnableWithMessageHistory\n",
    "store = {}\n",
    "def get_session_history(session_id: str) -> BaseChatMessageHistory:\n",
    "    if session_id not in store:\n",
    "        store[session_id] = ChatMessageHistory()\n",
    "    return store[session_id]\n",
    "\n",
    "with_message_history = RunnableWithMessageHistory(model, get_session_history)\n",
    "\n",
    "  "
   ]
  },
  {
   "cell_type": "code",
   "execution_count": 13,
   "metadata": {},
   "outputs": [],
   "source": [
    "config = {\"configurable\":{\"session_id\": \"chat1\"}}"
   ]
  },
  {
   "cell_type": "code",
   "execution_count": 14,
   "metadata": {},
   "outputs": [],
   "source": [
    "response =with_message_history.invoke(\n",
    "    [HumanMessage(content=\"Hi my name is Das , i am tring to become a gen ai deeveloper\")],\n",
    "    config=config\n",
    ")"
   ]
  },
  {
   "cell_type": "code",
   "execution_count": 15,
   "metadata": {},
   "outputs": [
    {
     "data": {
      "text/plain": [
       "\"That's fantastic, Das!  Becoming a Gen AI developer is an exciting and challenging path. \\n\\nTo help me give you the best advice, could you tell me a little more about yourself and your goals?\\n\\nFor example:\\n\\n* **What's your current background?** (e.g., are you a programmer, a data scientist, or just starting out?)\\n* **What specific areas of Gen AI are you interested in?** (e.g., text generation, image generation, code generation, etc.)\\n* **What are your learning resources and preferences?** (e.g., online courses, books, tutorials, mentorship)\\n\\nThe more information you share, the better I can tailor my suggestions to your needs. \\n\\nI'm here to support you on your journey! Let's get started. 🎉\\n\""
      ]
     },
     "execution_count": 15,
     "metadata": {},
     "output_type": "execute_result"
    }
   ],
   "source": [
    "response.content"
   ]
  },
  {
   "cell_type": "code",
   "execution_count": 16,
   "metadata": {},
   "outputs": [],
   "source": [
    "response =with_message_history.invoke(\n",
    "    [HumanMessage(content=\"What is my name \")],\n",
    "    config=config\n",
    ")"
   ]
  },
  {
   "cell_type": "code",
   "execution_count": 17,
   "metadata": {},
   "outputs": [
    {
     "data": {
      "text/plain": [
       "'Your name is Das. 😊  I remember that from our first conversation!  \\n\\nHow can I help you further today?\\n'"
      ]
     },
     "execution_count": 17,
     "metadata": {},
     "output_type": "execute_result"
    }
   ],
   "source": [
    "response.content"
   ]
  },
  {
   "cell_type": "code",
   "execution_count": 18,
   "metadata": {},
   "outputs": [
    {
     "data": {
      "text/plain": [
       "\"As an AI, I have no memory of past conversations and do not know your name. If you'd like to tell me, I'd be happy to know!\\n\""
      ]
     },
     "execution_count": 18,
     "metadata": {},
     "output_type": "execute_result"
    }
   ],
   "source": [
    "## change in config \n",
    "config1 = {\"configurable\":{\"session_id\": \"chat2\"}}\n",
    "response =with_message_history.invoke(\n",
    "    [HumanMessage(content=\"What is my name \")],\n",
    "    config=config1\n",
    ")\n",
    "response.content"
   ]
  },
  {
   "cell_type": "code",
   "execution_count": 26,
   "metadata": {},
   "outputs": [],
   "source": [
    "from langchain_core.messages import SystemMessage,trim_messages\n",
    "trimmer = trim_messages(\n",
    "    max_tokens = 170,\n",
    "    strategy = \"last\",\n",
    "    token_counter = model,\n",
    "    include_system =True,\n",
    "    allow_partial  = False,\n",
    "    start_on = \"human\"\n",
    ") "
   ]
  },
  {
   "cell_type": "code",
   "execution_count": 27,
   "metadata": {},
   "outputs": [
    {
     "data": {
      "text/plain": [
       "[SystemMessage(content='You are a helpful AI assistant that answers questions precisely and concisely.'),\n",
       " HumanMessage(content='Cool. How do I create one?'),\n",
       " AIMessage(content='You can create one using the command: `python -m venv myenv`. Replace `myenv` with the name you prefer.'),\n",
       " HumanMessage(content='What about activating it on Windows?'),\n",
       " AIMessage(content=\"On Windows, run: `myenv\\\\Scripts\\\\activate`. On macOS/Linux, it's `source myenv/bin/activate`.\"),\n",
       " HumanMessage(content='Nice. Can you list the commands to install FastAPI and MongoDB-related packages too?'),\n",
       " AIMessage(content='Sure! You can install them using: `pip install fastapi uvicorn pymongo motor`.')]"
      ]
     },
     "execution_count": 27,
     "metadata": {},
     "output_type": "execute_result"
    }
   ],
   "source": [
    "messages = [\n",
    "    SystemMessage(content=\"You are a helpful AI assistant that answers questions precisely and concisely.\"),\n",
    "    \n",
    "    HumanMessage(content=\"Hey, can you explain what a virtual environment is in Python?\"),\n",
    "    AIMessage(content=\"Sure! A virtual environment in Python is a self-contained directory that contains a Python installation for a particular version, plus a number of additional packages. It helps isolate dependencies for different projects.\"),\n",
    "\n",
    "    HumanMessage(content=\"Cool. How do I create one?\"),\n",
    "    AIMessage(content=\"You can create one using the command: `python -m venv myenv`. Replace `myenv` with the name you prefer.\"),\n",
    "\n",
    "    HumanMessage(content=\"What about activating it on Windows?\"),\n",
    "    AIMessage(content=\"On Windows, run: `myenv\\\\Scripts\\\\activate`. On macOS/Linux, it's `source myenv/bin/activate`.\"),\n",
    "\n",
    "    HumanMessage(content=\"Nice. Can you list the commands to install FastAPI and MongoDB-related packages too?\"),\n",
    "    AIMessage(content=\"Sure! You can install them using: `pip install fastapi uvicorn pymongo motor`.\"),\n",
    "]\n",
    "trimmer.invoke(messages)"
   ]
  },
  {
   "cell_type": "code",
   "execution_count": 34,
   "metadata": {},
   "outputs": [
    {
     "name": "stdout",
     "output_type": "stream",
     "text": [
      "content=\"Based on our conversation, your field of interest appears to be **backend software development**. \\n\\nYou're asking about creating a virtual environment, activating it, and installing packages like FastAPI and MongoDB, which are commonly used in building web applications.  \\n\\n\" response_metadata={'token_usage': {'completion_tokens': 55, 'prompt_tokens': 233, 'total_tokens': 288, 'completion_time': 0.1, 'prompt_time': 0.009166909, 'queue_time': 0.23533897, 'total_time': 0.109166909}, 'model_name': 'gemma2-9b-it', 'system_fingerprint': 'fp_10c08bf97d', 'finish_reason': 'stop', 'logprobs': None} id='run-b667d7ae-a7ec-4943-ae74-eec15d355436-0' usage_metadata={'input_tokens': 233, 'output_tokens': 55, 'total_tokens': 288}\n"
     ]
    }
   ],
   "source": [
    "from langchain.prompts import ChatPromptTemplate\n",
    "\n",
    "prompt = ChatPromptTemplate.from_messages([\n",
    "    SystemMessage(\n",
    "        content=\"You are a helpful AI assistant. Based on the conversation history, try to understand and infer the user's field of interest.\"\n",
    "    ),\n",
    "    (\"user\", \"{messages}\"),  # This will be replaced with the trimmed messages list\n",
    "    (\"user\", \"What is my field of interest?\")\n",
    "])\n",
    "chain = (\n",
    "    RunnablePassthrough.assign(messages=itemgetter(\"messages\") | trimmer)\n",
    "    | prompt\n",
    "    | model\n",
    ")\n",
    "\n",
    "# Proper dictionary syntax for invoke\n",
    "response = chain.invoke({\n",
    "    \"messages\": messages + [HumanMessage(content=\"What is my field of interest?\")],\n",
    "    \"language\": \"English\"\n",
    "})\n",
    "\n",
    "print(response)"
   ]
  },
  {
   "cell_type": "code",
   "execution_count": 36,
   "metadata": {},
   "outputs": [
    {
     "data": {
      "text/plain": [
       "AIMessage(content=\"Based on our conversation, your field of interest seems to be **Python development**, particularly focusing on building web applications using **FastAPI** and potentially working with **MongoDB** as a database. \\n\\n\\nYou're asking about setting up a Python virtual environment, activating it, and installing specific packages related to these technologies. \\n\\n\", response_metadata={'token_usage': {'completion_tokens': 69, 'prompt_tokens': 234, 'total_tokens': 303, 'completion_time': 0.125454545, 'prompt_time': 0.009277331, 'queue_time': 0.237394157, 'total_time': 0.134731876}, 'model_name': 'gemma2-9b-it', 'system_fingerprint': 'fp_10c08bf97d', 'finish_reason': 'stop', 'logprobs': None}, id='run-c24dac3c-e236-4478-ae8e-137c19c3251b-0', usage_metadata={'input_tokens': 234, 'output_tokens': 69, 'total_tokens': 303})"
      ]
     },
     "execution_count": 36,
     "metadata": {},
     "output_type": "execute_result"
    }
   ],
   "source": [
    "response = chain.invoke({\n",
    "    \"messages\": messages + [HumanMessage(content=\"What is question i asked you in python\")],\n",
    "    \"language\": \"English\"\n",
    "})\n",
    "response"
   ]
  },
  {
   "cell_type": "code",
   "execution_count": 37,
   "metadata": {},
   "outputs": [],
   "source": [
    "## wrap it in message history again\n",
    "with_message_history = RunnableWithMessageHistory(\n",
    "    chain,\n",
    "    get_session_history,\n",
    "    input_messages_key=\"messages\"\n",
    ")\n",
    "config = {\"configurable\":{\"session_id\":\"chat5\"}}"
   ]
  },
  {
   "cell_type": "code",
   "execution_count": null,
   "metadata": {},
   "outputs": [],
   "source": []
  }
 ],
 "metadata": {
  "kernelspec": {
   "display_name": "myenv",
   "language": "python",
   "name": "python3"
  },
  "language_info": {
   "codemirror_mode": {
    "name": "ipython",
    "version": 3
   },
   "file_extension": ".py",
   "mimetype": "text/x-python",
   "name": "python",
   "nbconvert_exporter": "python",
   "pygments_lexer": "ipython3",
   "version": "3.11.7"
  }
 },
 "nbformat": 4,
 "nbformat_minor": 2
}

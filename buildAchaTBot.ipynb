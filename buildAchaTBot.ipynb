{
 "cells": [
  {
   "cell_type": "code",
   "execution_count": 1,
   "metadata": {},
   "outputs": [],
   "source": [
    "##  open Source models - Llama3 , Gemma2 ,mistral--Groq\n",
    "import os\n",
    "from dotenv  import load_dotenv\n",
    "\n",
    "load_dotenv()\n",
    "import openai\n",
    "openai.api_key = os.getenv(\"OPENAI_API_KEY\")\n",
    "groq_api_key = os.getenv(\"GROQ_API_KEY\")"
   ]
  },
  {
   "cell_type": "markdown",
   "metadata": {},
   "source": [
    "Create a coversational chat bot with history"
   ]
  },
  {
   "cell_type": "code",
   "execution_count": 2,
   "metadata": {},
   "outputs": [],
   "source": [
    "from langchain_groq import ChatGroq     \n",
    "model = ChatGroq( model_name=\"gemma2-9b-it\",groq_api_key=groq_api_key)\n",
    "## update api key "
   ]
  },
  {
   "cell_type": "code",
   "execution_count": 3,
   "metadata": {},
   "outputs": [
    {
     "data": {
      "text/plain": [
       "AIMessage(content=\"Hello Das! It's great you're interested in learning about generative AI.  \\n\\nIt's a fascinating field with a lot of potential. To help me guide you, could you tell me a bit more about your current knowledge and goals? \\n\\nFor example:\\n\\n* **What's your background?** Are you a programmer, a designer, a student, or something else?\\n* **What do you already know about AI?** Have you heard of concepts like machine learning or deep learning?\\n* **What are your specific interests within generative AI?** Are you interested in text generation, image creation, music composition, or something else?\\n* **What kind of learning resources are you looking for?** Do you prefer online courses, books, articles, or hands-on projects?\\n\\n\\nThe more information you can give me, the better I can tailor my advice and help you on your journey to learn about generative AI! 🚀  \\n\\n\", response_metadata={'token_usage': {'completion_tokens': 199, 'prompt_tokens': 18, 'total_tokens': 217, 'completion_time': 0.361818182, 'prompt_time': 0.001929406, 'queue_time': 0.235711583, 'total_time': 0.363747588}, 'model_name': 'gemma2-9b-it', 'system_fingerprint': 'fp_10c08bf97d', 'finish_reason': 'stop', 'logprobs': None}, id='run-4dda82e7-807e-461c-9c69-89a55132b6a2-0', usage_metadata={'input_tokens': 18, 'output_tokens': 199, 'total_tokens': 217})"
      ]
     },
     "execution_count": 3,
     "metadata": {},
     "output_type": "execute_result"
    }
   ],
   "source": [
    "from langchain_core.messages import HumanMessage\n",
    "model.invoke([HumanMessage(content=\"Hi i am das trying to learn gen ai\")])"
   ]
  },
  {
   "cell_type": "code",
   "execution_count": 4,
   "metadata": {},
   "outputs": [
    {
     "data": {
      "text/plain": [
       "AIMessage(content=\"It sounds like you're interested in becoming a Generative AI Developer! That's a really exciting field. \\n\\nTo help me understand your interests better, could you tell me:\\n\\n* **What specifically about Generative AI excites you?**  \\n    * Are you drawn to creating text, images, music, or something else?\\n    * Do you want to build applications with AI, or are you more interested in the research side?\\n* **What is your current level of experience with programming and AI?** \\n    * Have you taken any courses or worked on any projects related to these areas?\\n* **What kind of resources are you looking for?**\\n    * Are you looking for learning materials, community groups, or advice on getting started?\\n\\nThe more you tell me, the better I can tailor my responses to your needs. 😊  \\n\\n\\n\\n\", response_metadata={'token_usage': {'completion_tokens': 183, 'prompt_tokens': 54, 'total_tokens': 237, 'completion_time': 0.332727273, 'prompt_time': 0.003504113, 'queue_time': 0.24071642599999998, 'total_time': 0.336231386}, 'model_name': 'gemma2-9b-it', 'system_fingerprint': 'fp_10c08bf97d', 'finish_reason': 'stop', 'logprobs': None}, id='run-9b5b7d83-a28c-49b0-b0c4-424cdb2f1065-0', usage_metadata={'input_tokens': 54, 'output_tokens': 183, 'total_tokens': 237})"
      ]
     },
     "execution_count": 4,
     "metadata": {},
     "output_type": "execute_result"
    }
   ],
   "source": [
    "from langchain_core.messages import AIMessage\n",
    "model.invoke([HumanMessage(content=\"Hi my name is Das , i am tring to become a gen ai deeveloper\"),AIMessage(content=\"Hi das, how can I help you today?\"),\n",
    "              HumanMessage(content=\"What i am doing what are my interests\")])"
   ]
  },
  {
   "cell_type": "markdown",
   "metadata": {},
   "source": [
    "###  message history \n",
    "we can use a message history to keep track of the conversation and make it statepful"
   ]
  },
  {
   "cell_type": "code",
   "execution_count": 10,
   "metadata": {},
   "outputs": [],
   "source": [
    "from langchain_community.chat_message_histories import ChatMessageHistory\n",
    "from langchain_core.chat_history import BaseChatMessageHistory\n",
    "from langchain_core.runnables.history import RunnableWithMessageHistory\n",
    "store = {}\n",
    "def get_session_history(session_id: str) -> BaseChatMessageHistory:\n",
    "    if session_id not in store:\n",
    "        store[session_id] = ChatMessageHistory()\n",
    "    return store[session_id]\n",
    "\n",
    "with_message_history = RunnableWithMessageHistory(model, get_session_history)\n",
    "\n",
    "  "
   ]
  },
  {
   "cell_type": "code",
   "execution_count": 11,
   "metadata": {},
   "outputs": [],
   "source": [
    "config = {\"configurable\":{\"session_id\": \"chat1\"}}"
   ]
  },
  {
   "cell_type": "code",
   "execution_count": 13,
   "metadata": {},
   "outputs": [
    {
     "name": "stderr",
     "output_type": "stream",
     "text": [
      "Parent run 31cdec37-76b8-452f-a0f9-31daf4ee407b not found for run 93341883-e334-4e9d-a189-f76c42eb4d09. Treating as a root run.\n"
     ]
    }
   ],
   "source": [
    "response =with_message_history.invoke(\n",
    "    [HumanMessage(content=\"Hi my name is Das , i am tring to become a gen ai deeveloper\")],\n",
    "    config=config\n",
    ")"
   ]
  },
  {
   "cell_type": "code",
   "execution_count": 14,
   "metadata": {},
   "outputs": [
    {
     "data": {
      "text/plain": [
       "\"Hi Das! It's great to meet you and hear that you want to become a Gen AI developer. That's a really exciting field to be in!\\n\\nTo help me guide you best, could you tell me a little bit more about yourself and your goals?  For example:\\n\\n* **What's your current background?**  Have you done any programming before? Are you familiar with any math concepts like linear algebra or calculus? \\n* **What interests you most about Gen AI?**  Do you want to work on chatbots, image generation, text summarization, or something else entirely?\\n* **What kind of resources do you have available?**  Do you have access to a computer with decent processing power? Are there any online learning platforms you use? \\n\\nThe more you tell me, the better I can help you find the right resources and advice to start your journey! 😊  \\n\\n\""
      ]
     },
     "execution_count": 14,
     "metadata": {},
     "output_type": "execute_result"
    }
   ],
   "source": [
    "response.content"
   ]
  },
  {
   "cell_type": "code",
   "execution_count": 16,
   "metadata": {},
   "outputs": [
    {
     "name": "stderr",
     "output_type": "stream",
     "text": [
      "Parent run 7d652587-700b-457e-9f2e-a56737995c57 not found for run 53ad68e6-a526-473c-b5ee-c9f673f3531a. Treating as a root run.\n"
     ]
    }
   ],
   "source": [
    "response =with_message_history.invoke(\n",
    "    [HumanMessage(content=\"What is my name \")],\n",
    "    config=config\n",
    ")"
   ]
  },
  {
   "cell_type": "code",
   "execution_count": 17,
   "metadata": {},
   "outputs": [
    {
     "data": {
      "text/plain": [
       "'You told me your name is Das!  😊 \\n\\nIs there anything else I can help you with?\\n'"
      ]
     },
     "execution_count": 17,
     "metadata": {},
     "output_type": "execute_result"
    }
   ],
   "source": [
    "response.content"
   ]
  },
  {
   "cell_type": "code",
   "execution_count": 19,
   "metadata": {},
   "outputs": [
    {
     "name": "stderr",
     "output_type": "stream",
     "text": [
      "Parent run 174a53d1-60e1-42ca-be3d-804639f13614 not found for run 5f5af414-ce97-444e-b3ac-3f742853969c. Treating as a root run.\n"
     ]
    },
    {
     "data": {
      "text/plain": [
       "\"As an AI, I have no access to your personal information, including your name. If you'd like to tell me your name, I'd be happy to know! 😊  \\n\\n\""
      ]
     },
     "execution_count": 19,
     "metadata": {},
     "output_type": "execute_result"
    }
   ],
   "source": [
    "## change in config \n",
    "config1 = {\"configurable\":{\"session_id\": \"chat2\"}}\n",
    "response =with_message_history.invoke(\n",
    "    [HumanMessage(content=\"What is my name \")],\n",
    "    config=config1\n",
    ")\n",
    "response.content"
   ]
  },
  {
   "cell_type": "code",
   "execution_count": null,
   "metadata": {},
   "outputs": [],
   "source": []
  }
 ],
 "metadata": {
  "kernelspec": {
   "display_name": "myenv",
   "language": "python",
   "name": "python3"
  },
  "language_info": {
   "codemirror_mode": {
    "name": "ipython",
    "version": 3
   },
   "file_extension": ".py",
   "mimetype": "text/x-python",
   "name": "python",
   "nbconvert_exporter": "python",
   "pygments_lexer": "ipython3",
   "version": "3.12.10"
  }
 },
 "nbformat": 4,
 "nbformat_minor": 2
}

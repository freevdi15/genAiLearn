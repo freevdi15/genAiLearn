{
 "cells": [
  {
   "cell_type": "markdown",
   "id": "8a79a7c1",
   "metadata": {},
   "source": [
    "Vector stores and retrievers \n",
    " \n",
    " we will cover \n",
    " * documents\n",
    " * vector stores\n",
    " * Retriver"
   ]
  },
  {
   "cell_type": "code",
   "execution_count": 1,
   "id": "c4ca8246",
   "metadata": {},
   "outputs": [],
   "source": [
    "from langchain_core.documents import Document\n",
    "\n",
    "from langchain.schema import Document\n",
    "\n",
    "# Hospital attributes as structured content\n",
    "documents = [\n",
    "    Document(\n",
    "        page_content=(\n",
    "            \"Name: Ananthapuri Hospital and Research Institute (AHRI)\\n\"\n",
    "            \"Location: Thiruvananthapuram, Kerala\\n\"\n",
    "            \"Type: Multi-specialty tertiary care hospital\\n\"\n",
    "            \"Accreditation: NABH (National Accreditation Board for Hospitals)\\n\"\n",
    "            \"Established: [Not specified]\\n\"\n",
    "            \"Bed Capacity: 400+\\n\"\n",
    "            \"Emergency Services: 24x7 available\\n\"\n",
    "            \"Specialties: Cardiology, Neurology, Nephrology, Oncology, Gastroenterology, Orthopedics, Pediatrics, \"\n",
    "            \"General Surgery, Urology, Internal Medicine\\n\"\n",
    "            \"Facilities: ICU, Emergency Department, Diagnostic Services, Blood Bank, Dialysis Unit, Pharmacy, \"\n",
    "            \"Physiotherapy, Deluxe Inpatient Rooms, Medical Imaging (MRI, CT, Ultrasound), Robotic Surgery\\n\"\n",
    "            \"Medical Education: Yes — training, internships, CME programs\\n\"\n",
    "            \"Technology: Minimally Invasive Surgery, Robotic Surgery\\n\"\n",
    "            \"Website: www.ananthapurihospitals.com\\n\"\n",
    "            \"Phone: +91-471-2579900\\n\"\n",
    "            \"Address: NH Bypass Road, Chacka, Thiruvananthapuram, Kerala - 695024\\n\"\n",
    "        ),\n",
    "        metadata={\n",
    "            \"source\": \"ananthapuri_official\",\n",
    "            \"region\": \"Kerala\",\n",
    "            \"category\": \"hospital_info\"\n",
    "        }\n",
    "    ),\n",
    "    Document(\n",
    "        page_content=(\n",
    "            \"It specializes in various fields including Cardiology, Neurology, Nephrology, Oncology, \"\n",
    "            \"ANd this hospital has very good facilities for patients. \"\n",
    "            \n",
    "        ),\n",
    "        metadata={\n",
    "            \"source\": \"ananthapuri_official\",\n",
    "            \"region\": \"Kerala\",\n",
    "            \"category\": \"hospital_info\"\n",
    "        }\n",
    "    )\n",
    "]\n",
    "\n"
   ]
  },
  {
   "cell_type": "code",
   "execution_count": 6,
   "id": "14290ad8",
   "metadata": {},
   "outputs": [],
   "source": [
    "import os\n",
    "from dotenv import load_dotenv\n",
    "from langchain_groq import ChatGroq\n",
    "load_dotenv()\n",
    "groq_api = os.getenv(\"GROQ_API_KEY\")\n",
    "os.environ[\"HF_TOKEN\"] = os.getenv(\"HF_TOKEN\")\n",
    "llm = ChatGroq(groq_api_key=groq_api, model=\"Llama3-8b-8192\", temperature=0.1, max_tokens=512)"
   ]
  },
  {
   "cell_type": "code",
   "execution_count": 7,
   "id": "ab88ee11",
   "metadata": {},
   "outputs": [
    {
     "name": "stderr",
     "output_type": "stream",
     "text": [
      "The cache for model files in Transformers v4.22.0 has been updated. Migrating your old cache. This is a one-time only operation. You can interrupt this and resume the migration later on by calling `transformers.utils.move_cache()`.\n"
     ]
    },
    {
     "data": {
      "application/vnd.jupyter.widget-view+json": {
       "model_id": "dfa599a4f91a402a965fd4b961625484",
       "version_major": 2,
       "version_minor": 0
      },
      "text/plain": [
       "0it [00:00, ?it/s]"
      ]
     },
     "metadata": {},
     "output_type": "display_data"
    }
   ],
   "source": [
    "from langchain_huggingface import HuggingFaceEmbeddings\n",
    "embeddings = HuggingFaceEmbeddings( model_name=\"sentence-transformers/all-MiniLM-L6-v2\")"
   ]
  },
  {
   "cell_type": "code",
   "execution_count": 8,
   "id": "145c6784",
   "metadata": {},
   "outputs": [
    {
     "data": {
      "text/plain": [
       "<langchain_chroma.vectorstores.Chroma at 0x196ea3fce30>"
      ]
     },
     "execution_count": 8,
     "metadata": {},
     "output_type": "execute_result"
    }
   ],
   "source": [
    "## vector Store \n",
    "from langchain_chroma import Chroma\n",
    "vectorstore = Chroma.from_documents(documents, embeddings, persist_directory=\"chroma_db\")\n",
    "vectorstore\n"
   ]
  },
  {
   "cell_type": "code",
   "execution_count": 10,
   "id": "919543ef",
   "metadata": {},
   "outputs": [
    {
     "name": "stderr",
     "output_type": "stream",
     "text": [
      "Number of requested results 4 is greater than number of elements in index 2, updating n_results = 2\n"
     ]
    },
    {
     "data": {
      "text/plain": [
       "[Document(page_content='It specializes in various fields including Cardiology, Neurology, Nephrology, Oncology, ANd this hospital has very good facilities for patients. ', metadata={'category': 'hospital_info', 'region': 'Kerala', 'source': 'ananthapuri_official'}),\n",
       " Document(page_content='Name: Ananthapuri Hospital and Research Institute (AHRI)\\nLocation: Thiruvananthapuram, Kerala\\nType: Multi-specialty tertiary care hospital\\nAccreditation: NABH (National Accreditation Board for Hospitals)\\nEstablished: [Not specified]\\nBed Capacity: 400+\\nEmergency Services: 24x7 available\\nSpecialties: Cardiology, Neurology, Nephrology, Oncology, Gastroenterology, Orthopedics, Pediatrics, General Surgery, Urology, Internal Medicine\\nFacilities: ICU, Emergency Department, Diagnostic Services, Blood Bank, Dialysis Unit, Pharmacy, Physiotherapy, Deluxe Inpatient Rooms, Medical Imaging (MRI, CT, Ultrasound), Robotic Surgery\\nMedical Education: Yes — training, internships, CME programs\\nTechnology: Minimally Invasive Surgery, Robotic Surgery\\nWebsite: www.ananthapurihospitals.com\\nPhone: +91-471-2579900\\nAddress: NH Bypass Road, Chacka, Thiruvananthapuram, Kerala - 695024\\n', metadata={'category': 'hospital_info', 'region': 'Kerala', 'source': 'ananthapuri_official'})]"
      ]
     },
     "execution_count": 10,
     "metadata": {},
     "output_type": "execute_result"
    }
   ],
   "source": [
    "vectorstore.similarity_search(\"hospital speciality\") # it will return the most similar document to the query."
   ]
  },
  {
   "cell_type": "code",
   "execution_count": 12,
   "id": "3de76023",
   "metadata": {},
   "outputs": [
    {
     "name": "stderr",
     "output_type": "stream",
     "text": [
      "Number of requested results 4 is greater than number of elements in index 2, updating n_results = 2\n"
     ]
    },
    {
     "data": {
      "text/plain": [
       "[Document(page_content='It specializes in various fields including Cardiology, Neurology, Nephrology, Oncology, ANd this hospital has very good facilities for patients. ', metadata={'category': 'hospital_info', 'region': 'Kerala', 'source': 'ananthapuri_official'}),\n",
       " Document(page_content='Name: Ananthapuri Hospital and Research Institute (AHRI)\\nLocation: Thiruvananthapuram, Kerala\\nType: Multi-specialty tertiary care hospital\\nAccreditation: NABH (National Accreditation Board for Hospitals)\\nEstablished: [Not specified]\\nBed Capacity: 400+\\nEmergency Services: 24x7 available\\nSpecialties: Cardiology, Neurology, Nephrology, Oncology, Gastroenterology, Orthopedics, Pediatrics, General Surgery, Urology, Internal Medicine\\nFacilities: ICU, Emergency Department, Diagnostic Services, Blood Bank, Dialysis Unit, Pharmacy, Physiotherapy, Deluxe Inpatient Rooms, Medical Imaging (MRI, CT, Ultrasound), Robotic Surgery\\nMedical Education: Yes — training, internships, CME programs\\nTechnology: Minimally Invasive Surgery, Robotic Surgery\\nWebsite: www.ananthapurihospitals.com\\nPhone: +91-471-2579900\\nAddress: NH Bypass Road, Chacka, Thiruvananthapuram, Kerala - 695024\\n', metadata={'category': 'hospital_info', 'region': 'Kerala', 'source': 'ananthapuri_official'})]"
      ]
     },
     "execution_count": 12,
     "metadata": {},
     "output_type": "execute_result"
    }
   ],
   "source": [
    "## async query \n",
    "await  vectorstore.asimilarity_search(\"hospital speciality\") # it will return the most similar document to the query."
   ]
  },
  {
   "cell_type": "code",
   "execution_count": 13,
   "id": "4b31dfb9",
   "metadata": {},
   "outputs": [
    {
     "name": "stderr",
     "output_type": "stream",
     "text": [
      "Number of requested results 4 is greater than number of elements in index 2, updating n_results = 2\n"
     ]
    },
    {
     "data": {
      "text/plain": [
       "[(Document(page_content='It specializes in various fields including Cardiology, Neurology, Nephrology, Oncology, ANd this hospital has very good facilities for patients. ', metadata={'category': 'hospital_info', 'region': 'Kerala', 'source': 'ananthapuri_official'}),\n",
       "  0.9359505418944805),\n",
       " (Document(page_content='Name: Ananthapuri Hospital and Research Institute (AHRI)\\nLocation: Thiruvananthapuram, Kerala\\nType: Multi-specialty tertiary care hospital\\nAccreditation: NABH (National Accreditation Board for Hospitals)\\nEstablished: [Not specified]\\nBed Capacity: 400+\\nEmergency Services: 24x7 available\\nSpecialties: Cardiology, Neurology, Nephrology, Oncology, Gastroenterology, Orthopedics, Pediatrics, General Surgery, Urology, Internal Medicine\\nFacilities: ICU, Emergency Department, Diagnostic Services, Blood Bank, Dialysis Unit, Pharmacy, Physiotherapy, Deluxe Inpatient Rooms, Medical Imaging (MRI, CT, Ultrasound), Robotic Surgery\\nMedical Education: Yes — training, internships, CME programs\\nTechnology: Minimally Invasive Surgery, Robotic Surgery\\nWebsite: www.ananthapurihospitals.com\\nPhone: +91-471-2579900\\nAddress: NH Bypass Road, Chacka, Thiruvananthapuram, Kerala - 695024\\n', metadata={'category': 'hospital_info', 'region': 'Kerala', 'source': 'ananthapuri_official'}),\n",
       "  1.2348488894667682)]"
      ]
     },
     "execution_count": 13,
     "metadata": {},
     "output_type": "execute_result"
    }
   ],
   "source": [
    "vectorstore.similarity_search_with_score(\"hospital speciality\") "
   ]
  },
  {
   "cell_type": "markdown",
   "id": "01176c30",
   "metadata": {},
   "source": [
    "### retrivers\n",
    "Retrivers runnable implemnt methods to be incorporate with LCEL chains "
   ]
  },
  {
   "cell_type": "code",
   "execution_count": 16,
   "id": "8d4cacab",
   "metadata": {},
   "outputs": [
    {
     "data": {
      "text/plain": [
       "[[Document(page_content='It specializes in various fields including Cardiology, Neurology, Nephrology, Oncology, ANd this hospital has very good facilities for patients. ', metadata={'category': 'hospital_info', 'region': 'Kerala', 'source': 'ananthapuri_official'})],\n",
       " [Document(page_content='It specializes in various fields including Cardiology, Neurology, Nephrology, Oncology, ANd this hospital has very good facilities for patients. ', metadata={'category': 'hospital_info', 'region': 'Kerala', 'source': 'ananthapuri_official'})]]"
      ]
     },
     "execution_count": 16,
     "metadata": {},
     "output_type": "execute_result"
    }
   ],
   "source": [
    "from typing import List, Tuple\n",
    "from langchain_core.documents import Document\n",
    "from langchain_core.runnables import RunnableLambda\n",
    "\n",
    "retriever = RunnableLambda(vectorstore.similarity_search).bind(k=1)\n",
    "retriever.batch([\"hospital speciality\",\"location\"]) # it will return the most similar document to the query."
   ]
  },
  {
   "cell_type": "markdown",
   "id": "0efb4618",
   "metadata": {},
   "source": [
    "vector store implements as retriver method that will generate a Retriever , specifically a VectorStoreRetriever.These retrievers include a specific search_type and search_kwarghs that identfies what under lying vector that should be called and hot to parametrice them "
   ]
  },
  {
   "cell_type": "code",
   "execution_count": 20,
   "id": "72430f5f",
   "metadata": {},
   "outputs": [],
   "source": [
    "rectriver = vectorstore.as_retriever(\n",
    "    search_type=\"similarity\",\n",
    "    search_kwargs={\"k\": 1},\n",
    ")"
   ]
  },
  {
   "cell_type": "code",
   "execution_count": 21,
   "id": "4a9de984",
   "metadata": {},
   "outputs": [
    {
     "data": {
      "text/plain": [
       "[[Document(page_content='It specializes in various fields including Cardiology, Neurology, Nephrology, Oncology, ANd this hospital has very good facilities for patients. ', metadata={'category': 'hospital_info', 'region': 'Kerala', 'source': 'ananthapuri_official'})],\n",
       " [Document(page_content='It specializes in various fields including Cardiology, Neurology, Nephrology, Oncology, ANd this hospital has very good facilities for patients. ', metadata={'category': 'hospital_info', 'region': 'Kerala', 'source': 'ananthapuri_official'})]]"
      ]
     },
     "execution_count": 21,
     "metadata": {},
     "output_type": "execute_result"
    }
   ],
   "source": [
    "rectriver.batch([\"hospital speciality\",\"location\"]) # it will return the most similar document to the query."
   ]
  },
  {
   "cell_type": "code",
   "execution_count": null,
   "id": "fad679c2",
   "metadata": {},
   "outputs": [],
   "source": [
    "## Rag\n",
    "from langchain_core.prompts import ChatPromptTemplate\n",
    "from langchain_core.runnables import RunnablePassthrough\n",
    "message = \"\"\"\n",
    "Anser the question based on the context provided.\n",
    "\n",
    "{question}\n",
    "Context: {context}\n",
    "\"\"\"\n",
    "prompt = ChatPromptTemplate.from_messages([\n",
    "    (\"human\", message)\n",
    "\n",
    "])"
   ]
  },
  {
   "cell_type": "code",
   "execution_count": 23,
   "id": "b5eaace0",
   "metadata": {},
   "outputs": [],
   "source": [
    "rag_chain = {\"context\":retriever, \"question\":RunnablePassthrough()} | prompt | llm\n",
    "response = rag_chain.invoke(\"tell me about ananthapuri hospital\") # it will return the most similar document to the query."
   ]
  },
  {
   "cell_type": "code",
   "execution_count": null,
   "id": "c072bac0",
   "metadata": {},
   "outputs": [],
   "source": []
  }
 ],
 "metadata": {
  "kernelspec": {
   "display_name": "myenv",
   "language": "python",
   "name": "python3"
  },
  "language_info": {
   "codemirror_mode": {
    "name": "ipython",
    "version": 3
   },
   "file_extension": ".py",
   "mimetype": "text/x-python",
   "name": "python",
   "nbconvert_exporter": "python",
   "pygments_lexer": "ipython3",
   "version": "3.12.10"
  }
 },
 "nbformat": 4,
 "nbformat_minor": 5
}

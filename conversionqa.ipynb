{
 "cells": [
  {
   "cell_type": "markdown",
   "id": "5bd85b50",
   "metadata": {},
   "source": [
    "* Chain in which we execute with retrival set up \n",
    "* Agent in which we give an LLLM discretion over wheather and how to execute a retrival step (or multiple step )"
   ]
  },
  {
   "cell_type": "code",
   "execution_count": 5,
   "id": "404273b9",
   "metadata": {},
   "outputs": [],
   "source": [
    "import os\n",
    "from  dotenv import load_dotenv\n",
    "load_dotenv()\n",
    "\n",
    "from langchain_groq import ChatGroq\n",
    "\n",
    "groq_api_key = os.getenv(\"GROQ_API_KEY\")\n",
    "llm = ChatGroq(api_key=groq_api_key,model_name=\"Llama3-8b-8192\")"
   ]
  },
  {
   "cell_type": "code",
   "execution_count": 4,
   "id": "ccde0120",
   "metadata": {},
   "outputs": [
    {
     "name": "stderr",
     "output_type": "stream",
     "text": [
      "USER_AGENT environment variable not set, consider setting it to identify your requests.\n"
     ]
    }
   ],
   "source": [
    "from langchain_chroma import Chroma\n",
    "from langchain_community.document_loaders import WebBaseLoader\n",
    "from langchain_core.prompts import ChatPromptTemplate\n",
    "from langchain_openai import OpenAIEmbeddings\n",
    "from langchain_text_splitters import RecursiveCharacterTextSplitter"
   ]
  },
  {
   "cell_type": "code",
   "execution_count": 6,
   "id": "3c3ec7b3",
   "metadata": {},
   "outputs": [],
   "source": [
    "os.environ[\"HF_TOKEN\"] = os.getenv(\"HF_TOKEN\")\n",
    "from langchain_huggingface import HuggingFaceEmbeddings\n",
    "embeddings = HuggingFaceEmbeddings(model_name=\"sentence-transformers/all-MiniLM-L6-v2\")\n"
   ]
  },
  {
   "cell_type": "code",
   "execution_count": 8,
   "id": "8133051d",
   "metadata": {},
   "outputs": [],
   "source": [
    "from langchain.chains.combine_documents import create_stuff_documents_chain\n",
    "from langchain.chains import create_retrieval_chain"
   ]
  },
  {
   "cell_type": "code",
   "execution_count": 13,
   "id": "267369f7",
   "metadata": {},
   "outputs": [
    {
     "data": {
      "text/plain": [
       "[Document(page_content='\\n\\n\\n\\n\\n\\n\\n\\nNow in Preview: Groq’s First Compound AI System. \\n\\n\\n\\n\\n\\n\\nTry Now &\\n\\n\\n\\n\\n\\n\\n\\n\\n\\n\\nLearn More. \\n\\n\\n\\n\\n\\n\\n\\n\\n\\n\\n\\n\\n\\nLlama 4 is live on GroqCloud™. \\n\\n\\n\\n\\n\\n\\nLearn more &\\n\\n\\n\\n\\n\\n\\n\\n\\n\\n\\ntry now.\\n\\n\\n\\n\\n\\n\\n\\n\\n\\n\\n\\n\\n\\nGroq Launches First TTS Model, PlayAI Dialog, Making Voice AI Sound More Human.  \\n\\n\\n\\n\\n\\n\\nTry Now &\\n\\n\\n\\n\\n\\n\\n\\n\\n\\n\\nLearn More\\n\\n\\n\\n\\n\\n\\n\\n\\n\\n\\n\\n\\n\\nGroqCloud™ Self-serve Developer Tier now available! \\n\\n\\n\\n\\n\\n\\nLearn more.\\n\\n\\n\\n\\n\\n\\n\\n\\n\\n\\n\\n \\n\\n \\n\\n\\n\\n\\n \\n\\n \\n\\n\\n\\n\\n\\n \\n\\t\\t\\t\\t\\t\\t\\tProducts\\t\\t\\t\\t\\t\\t\\n \\n\\n Close Products\\n\\n\\n Open Products\\n\\n\\n\\n\\n\\n\\n\\n\\n\\n\\nPricing\\n\\n\\n\\n\\nProducts Overview\\n\\n\\n\\n\\nEnterprise Access\\n\\n\\n\\n\\nGroqCloud™ Platform\\n\\n\\n\\n\\nGroqRack™ Cluster\\n\\n\\n\\n\\n\\n\\n\\n\\n\\n\\n \\n\\t\\t\\t\\t\\t\\t\\tDevelopers\\t\\t\\t\\t\\t\\t\\n \\n\\n Close Developers\\n\\n\\n Open Developers\\n\\n\\n\\n\\n\\n\\n\\n\\n\\n\\n\\nFree API Key \\xa0\\n\\n\\n\\n\\nStart Building \\xa0\\n\\n\\n\\n\\nDiscord  \\xa0\\n\\n\\n\\n\\nGroq Libraries  \\xa0\\n\\n\\n\\n\\nCommunity\\n\\n\\n\\n\\nShowcase\\n\\n\\n\\n\\n\\n\\n\\n\\n\\n\\n\\n \\n\\t\\t\\t\\t\\t\\t\\tInsights\\t\\t\\t\\t\\t\\t\\n \\n\\n Close Insights\\n\\n\\n Open Insights\\n\\n\\n\\n\\n\\n\\n\\n\\n\\n\\n\\nInference\\n\\n\\n\\n\\nCustomer Use Cases\\n\\n\\n\\n\\nBlog\\n\\n\\n\\n\\nPapers\\n\\n\\n\\n\\nEvents\\n\\n\\n\\n\\nPress Releases\\n\\n\\n\\n\\nVideos\\n\\n\\n\\n\\n\\n\\n\\n\\n\\n\\n\\n \\n\\t\\t\\t\\t\\t\\t\\tAbout\\t\\t\\t\\t\\t\\t\\n \\n\\n Close About\\n\\n\\n Open About\\n\\n\\n\\n\\n\\n\\n\\n\\n\\n\\nAbout Groq\\n\\n\\n\\n\\nIn the News\\n\\n\\n\\n\\nTeam\\n\\n\\n\\n\\nCareers\\n\\n\\n\\n\\n\\n\\n\\n\\n\\n\\n\\n\\n\\n\\n\\nDev\\xa0Console\\n\\n\\n\\n\\n\\n\\n \\n\\n\\n\\n\\n\\n\\n \\n\\n\\n\\n\\n\\n\\n\\n\\n\\n\\n\\n\\n\\nGroq Hires Exceptional Talent \\nAt Groq, we believe AI will change humanity forever, and that making it affordable and universally accessible is the key to human agency in an AI economy.\\xa0We’re assembling a team of world-class engineers and business minds who believe in this mission. We’re hiring problem-solvers with the skills and desire to build a business that leaves a fingerprint on civilization.\\xa0 \\nOur Values \\nWe value curiosity and humility. Every Groqster is a lifelong learner, eager to expand their capabilities while courageous enough to bring others along for the journey. If this resonates, explore opportunities below to join the team redefining compute. \\n\\n\\n \\n\\n \\n\\n \\n\\n\\nGroqsters at a Glance \\nFollow us on LinkedIn and Instagram to see our team in action! From spontaneous team-building adventures to celebrating personal milestones, our social media channels are a window into the fun, collaborative, and supportive culture that makes Groq such a special place to work. \\n\\n\\n\\n\\n \\n\\n\\n\\n\\n \\n\\n\\n\\nYoutube\\n \\n\\n\\n\\nThreads\\n \\n\\n\\n\\nLinkedin\\n \\n\\n\\n\\nInstagram\\n \\n\\n\\n\\n\\n\\n\\n\\n\\nApply Below \\nReady to join our exceptional team? Explore opportunities below and apply today.\\nPlease note that any communications from Groq about your application, potential interviews, and job offers will come from a @groq.com email address.\\xa0Learn more about recruiting scams here. \\nInternships \\nOur Summer Internship Program runs from May – September. Due to high interest, intern applications for Summer 2025 have closed.Internship applications for our Winter 2026 Internship Program (January – May) will open in the Fall. \\n\\n \\n\\n\\n\\n\\n\\n\\nNever miss a Groq update! Sign up below for our latest news. \\n\\n\\n\\n\\n\\n\\nSign up for Groq updates\\n\\n\\n\\n\\n\\n\\n\\n\\n\\n\\n \\n© 2025\\xa0Groq, Inc., All rights reserved. \\n\\n\\n\\n\\n \\n\\n\\n\\n\\n \\n\\n\\n\\nYoutube\\n \\n\\n\\n\\nThreads\\n \\n\\n\\n\\nLinkedin\\n \\n\\n\\n\\nInstagram\\n \\n\\n\\n\\n\\n\\n\\nSearch\\n\\n\\n \\n\\n\\n\\n\\n \\n\\n\\n\\n Products \\n\\n\\n\\n\\n\\n\\n\\n\\n\\n\\n\\nPricing\\n\\n\\n\\n\\nProducts Overview\\n\\n\\n\\n\\nEnterprise Access\\n\\n\\n\\n\\nGroqCloud™ Platform\\n\\n\\n\\n\\nGroqRack™ Cluster\\n\\n\\n\\n\\n\\n\\n\\n\\n\\n Developers \\n\\n\\n\\n\\n\\n\\n\\n\\n\\n\\n\\nFree API Key \\xa0\\n\\n\\n\\n\\nDev Console \\xa0\\n\\n\\n\\n\\nDiscord  \\xa0\\n\\n\\n\\n\\nGroq Libraries  \\xa0\\n\\n\\n\\n\\nCommunity\\n\\n\\n\\n\\nShowcase\\n\\n\\n\\n\\n\\n\\n\\n\\n\\n Insights \\n\\n\\n\\n\\n\\n\\n\\n\\n\\n\\n\\nInference\\n\\n\\n\\n\\nCustomer Use Cases\\n\\n\\n\\n\\nBlog\\n\\n\\n\\n\\nPapers\\n\\n\\n\\n\\nEvents\\n\\n\\n\\n\\nPress Releases\\n\\n\\n\\n\\nVideos\\n\\n\\n\\n\\nBrand Guidelines\\n\\n\\n\\n\\n\\n\\n\\n\\n\\n About \\n\\n\\n\\n\\n\\n\\n\\n\\n\\n\\n\\nAbout Groq\\n\\n\\n\\n\\nIn the News\\n\\n\\n\\n\\nTeam\\n\\n\\n\\n\\nCareers\\n\\n\\n\\n\\n\\n\\n\\n\\n\\n\\n\\n\\n\\n\\nNever miss a Groq update! Sign up below for our latest news. \\n\\n\\n\\nSign up for Groq updates\\n\\n\\n\\n\\n\\n\\n\\n\\n\\nContact UsPrivacy Overview (Privacy Policy—PDF)Trust CenterWebsite Terms of UseGroqCloud Terms of SaleSecurityTrademark PolicyCookie PolicyBrand Guidelines \\n\\n\\n\\n\\n\\n\\n\\n\\n\\n \\n\\n\\n\\n\\n \\n\\n\\n\\nYoutube\\n \\n\\n\\n\\nThreads\\n \\n\\n\\n\\nLinkedin\\n \\n\\n\\n\\nInstagram\\n \\n\\n\\n\\n\\n\\n\\n\\nThe latest Groq news. Delivered to your inbox. \\n\\n ', metadata={'source': 'https://groq.com/careers/'})]"
      ]
     },
     "execution_count": 13,
     "metadata": {},
     "output_type": "execute_result"
    }
   ],
   "source": [
    "## load , chunk and index the contents of the blog to create a retriever\n",
    "import bs4\n",
    "loader = WebBaseLoader(\n",
    "    web_path=(\"https://groq.com/careers/\",),\n",
    "    bs_kwargs= dict(\n",
    "        parse_only=bs4.SoupStrainer(class_=(\"elementor-widget-container\",\"job-posts\",\"job-posts--table\")\n",
    "        )\n",
    "    ),\n",
    ")\n",
    "docs = loader.load()\n",
    "docs"
   ]
  },
  {
   "cell_type": "code",
   "execution_count": 14,
   "id": "29db4375",
   "metadata": {},
   "outputs": [
    {
     "name": "stdout",
     "output_type": "stream",
     "text": [
      "Number of splits: 6\n"
     ]
    }
   ],
   "source": [
    "text_splitter = RecursiveCharacterTextSplitter(chunk_size=1000, chunk_overlap=200)\n",
    "splits = text_splitter.split_documents(docs)\n",
    "print(f\"Number of splits: {len(splits)}\")\n"
   ]
  },
  {
   "cell_type": "code",
   "execution_count": 15,
   "id": "ecd65835",
   "metadata": {},
   "outputs": [
    {
     "data": {
      "text/plain": [
       "[Document(page_content='Now in Preview: Groq’s First Compound AI System. \\n\\n\\n\\n\\n\\n\\nTry Now &\\n\\n\\n\\n\\n\\n\\n\\n\\n\\n\\nLearn More. \\n\\n\\n\\n\\n\\n\\n\\n\\n\\n\\n\\n\\n\\nLlama 4 is live on GroqCloud™. \\n\\n\\n\\n\\n\\n\\nLearn more &\\n\\n\\n\\n\\n\\n\\n\\n\\n\\n\\ntry now.\\n\\n\\n\\n\\n\\n\\n\\n\\n\\n\\n\\n\\n\\nGroq Launches First TTS Model, PlayAI Dialog, Making Voice AI Sound More Human.  \\n\\n\\n\\n\\n\\n\\nTry Now &\\n\\n\\n\\n\\n\\n\\n\\n\\n\\n\\nLearn More\\n\\n\\n\\n\\n\\n\\n\\n\\n\\n\\n\\n\\n\\nGroqCloud™ Self-serve Developer Tier now available! \\n\\n\\n\\n\\n\\n\\nLearn more.\\n\\n\\n\\n\\n\\n\\n\\n\\n\\n\\n\\n \\n\\n \\n\\n\\n\\n\\n \\n\\n \\n\\n\\n\\n\\n\\n \\n\\t\\t\\t\\t\\t\\t\\tProducts\\t\\t\\t\\t\\t\\t\\n \\n\\n Close Products\\n\\n\\n Open Products\\n\\n\\n\\n\\n\\n\\n\\n\\n\\n\\nPricing\\n\\n\\n\\n\\nProducts Overview\\n\\n\\n\\n\\nEnterprise Access\\n\\n\\n\\n\\nGroqCloud™ Platform\\n\\n\\n\\n\\nGroqRack™ Cluster\\n\\n\\n\\n\\n\\n\\n\\n\\n\\n\\n \\n\\t\\t\\t\\t\\t\\t\\tDevelopers\\t\\t\\t\\t\\t\\t\\n \\n\\n Close Developers\\n\\n\\n Open Developers\\n\\n\\n\\n\\n\\n\\n\\n\\n\\n\\n\\nFree API Key \\xa0\\n\\n\\n\\n\\nStart Building \\xa0\\n\\n\\n\\n\\nDiscord  \\xa0\\n\\n\\n\\n\\nGroq Libraries  \\xa0\\n\\n\\n\\n\\nCommunity\\n\\n\\n\\n\\nShowcase\\n\\n\\n\\n\\n\\n\\n\\n\\n\\n\\n\\n \\n\\t\\t\\t\\t\\t\\t\\tInsights\\t\\t\\t\\t\\t\\t\\n \\n\\n Close Insights\\n\\n\\n Open Insights\\n\\n\\n\\n\\n\\n\\n\\n\\n\\n\\n\\nInference\\n\\n\\n\\n\\nCustomer Use Cases\\n\\n\\n\\n\\nBlog\\n\\n\\n\\n\\nPapers\\n\\n\\n\\n\\nEvents\\n\\n\\n\\n\\nPress Releases\\n\\n\\n\\n\\nVideos\\n\\n\\n\\n\\n\\n\\n\\n\\n\\n\\n\\n \\n\\t\\t\\t\\t\\t\\t\\tAbout', metadata={'source': 'https://groq.com/careers/'}),\n",
       " Document(page_content='Insights\\t\\t\\t\\t\\t\\t\\n \\n\\n Close Insights\\n\\n\\n Open Insights\\n\\n\\n\\n\\n\\n\\n\\n\\n\\n\\n\\nInference\\n\\n\\n\\n\\nCustomer Use Cases\\n\\n\\n\\n\\nBlog\\n\\n\\n\\n\\nPapers\\n\\n\\n\\n\\nEvents\\n\\n\\n\\n\\nPress Releases\\n\\n\\n\\n\\nVideos\\n\\n\\n\\n\\n\\n\\n\\n\\n\\n\\n\\n \\n\\t\\t\\t\\t\\t\\t\\tAbout\\t\\t\\t\\t\\t\\t\\n \\n\\n Close About\\n\\n\\n Open About\\n\\n\\n\\n\\n\\n\\n\\n\\n\\n\\nAbout Groq\\n\\n\\n\\n\\nIn the News\\n\\n\\n\\n\\nTeam\\n\\n\\n\\n\\nCareers\\n\\n\\n\\n\\n\\n\\n\\n\\n\\n\\n\\n\\n\\n\\n\\nDev\\xa0Console', metadata={'source': 'https://groq.com/careers/'}),\n",
       " Document(page_content='Videos\\n\\n\\n\\n\\n\\n\\n\\n\\n\\n\\n\\n \\n\\t\\t\\t\\t\\t\\t\\tAbout\\t\\t\\t\\t\\t\\t\\n \\n\\n Close About\\n\\n\\n Open About\\n\\n\\n\\n\\n\\n\\n\\n\\n\\n\\nAbout Groq\\n\\n\\n\\n\\nIn the News\\n\\n\\n\\n\\nTeam\\n\\n\\n\\n\\nCareers\\n\\n\\n\\n\\n\\n\\n\\n\\n\\n\\n\\n\\n\\n\\n\\nDev\\xa0Console\\n\\n\\n\\n\\n\\n\\n \\n\\n\\n\\n\\n\\n\\n \\n\\n\\n\\n\\n\\n\\n\\n\\n\\n\\n\\n\\n\\nGroq Hires Exceptional Talent \\nAt Groq, we believe AI will change humanity forever, and that making it affordable and universally accessible is the key to human agency in an AI economy.\\xa0We’re assembling a team of world-class engineers and business minds who believe in this mission. We’re hiring problem-solvers with the skills and desire to build a business that leaves a fingerprint on civilization.\\xa0 \\nOur Values \\nWe value curiosity and humility. Every Groqster is a lifelong learner, eager to expand their capabilities while courageous enough to bring others along for the journey. If this resonates, explore opportunities below to join the team redefining compute.', metadata={'source': 'https://groq.com/careers/'}),\n",
       " Document(page_content='Groqsters at a Glance \\nFollow us on LinkedIn and Instagram to see our team in action! From spontaneous team-building adventures to celebrating personal milestones, our social media channels are a window into the fun, collaborative, and supportive culture that makes Groq such a special place to work. \\n\\n\\n\\n\\n \\n\\n\\n\\n\\n \\n\\n\\n\\nYoutube\\n \\n\\n\\n\\nThreads\\n \\n\\n\\n\\nLinkedin\\n \\n\\n\\n\\nInstagram\\n \\n\\n\\n\\n\\n\\n\\n\\n\\nApply Below \\nReady to join our exceptional team? Explore opportunities below and apply today.\\nPlease note that any communications from Groq about your application, potential interviews, and job offers will come from a @groq.com email address.\\xa0Learn more about recruiting scams here. \\nInternships \\nOur Summer Internship Program runs from May – September. Due to high interest, intern applications for Summer 2025 have closed.Internship applications for our Winter 2026 Internship Program (January – May) will open in the Fall. \\n\\n \\n\\n\\n\\n\\n\\n\\nNever miss a Groq update! Sign up below for our latest news.', metadata={'source': 'https://groq.com/careers/'}),\n",
       " Document(page_content='Never miss a Groq update! Sign up below for our latest news. \\n\\n\\n\\n\\n\\n\\nSign up for Groq updates\\n\\n\\n\\n\\n\\n\\n\\n\\n\\n\\n \\n© 2025\\xa0Groq, Inc., All rights reserved. \\n\\n\\n\\n\\n \\n\\n\\n\\n\\n \\n\\n\\n\\nYoutube\\n \\n\\n\\n\\nThreads\\n \\n\\n\\n\\nLinkedin\\n \\n\\n\\n\\nInstagram\\n \\n\\n\\n\\n\\n\\n\\nSearch\\n\\n\\n \\n\\n\\n\\n\\n \\n\\n\\n\\n Products \\n\\n\\n\\n\\n\\n\\n\\n\\n\\n\\n\\nPricing\\n\\n\\n\\n\\nProducts Overview\\n\\n\\n\\n\\nEnterprise Access\\n\\n\\n\\n\\nGroqCloud™ Platform\\n\\n\\n\\n\\nGroqRack™ Cluster\\n\\n\\n\\n\\n\\n\\n\\n\\n\\n Developers \\n\\n\\n\\n\\n\\n\\n\\n\\n\\n\\n\\nFree API Key \\xa0\\n\\n\\n\\n\\nDev Console \\xa0\\n\\n\\n\\n\\nDiscord  \\xa0\\n\\n\\n\\n\\nGroq Libraries  \\xa0\\n\\n\\n\\n\\nCommunity\\n\\n\\n\\n\\nShowcase\\n\\n\\n\\n\\n\\n\\n\\n\\n\\n Insights \\n\\n\\n\\n\\n\\n\\n\\n\\n\\n\\n\\nInference\\n\\n\\n\\n\\nCustomer Use Cases\\n\\n\\n\\n\\nBlog\\n\\n\\n\\n\\nPapers\\n\\n\\n\\n\\nEvents\\n\\n\\n\\n\\nPress Releases\\n\\n\\n\\n\\nVideos\\n\\n\\n\\n\\nBrand Guidelines\\n\\n\\n\\n\\n\\n\\n\\n\\n\\n About \\n\\n\\n\\n\\n\\n\\n\\n\\n\\n\\n\\nAbout Groq\\n\\n\\n\\n\\nIn the News\\n\\n\\n\\n\\nTeam\\n\\n\\n\\n\\nCareers\\n\\n\\n\\n\\n\\n\\n\\n\\n\\n\\n\\n\\n\\n\\nNever miss a Groq update! Sign up below for our latest news. \\n\\n\\n\\nSign up for Groq updates\\n\\n\\n\\n\\n\\n\\n\\n\\n\\nContact UsPrivacy Overview (Privacy Policy—PDF)Trust CenterWebsite Terms of UseGroqCloud Terms of SaleSecurityTrademark PolicyCookie PolicyBrand Guidelines', metadata={'source': 'https://groq.com/careers/'}),\n",
       " Document(page_content='Sign up for Groq updates\\n\\n\\n\\n\\n\\n\\n\\n\\n\\nContact UsPrivacy Overview (Privacy Policy—PDF)Trust CenterWebsite Terms of UseGroqCloud Terms of SaleSecurityTrademark PolicyCookie PolicyBrand Guidelines \\n\\n\\n\\n\\n\\n\\n\\n\\n\\n \\n\\n\\n\\n\\n \\n\\n\\n\\nYoutube\\n \\n\\n\\n\\nThreads\\n \\n\\n\\n\\nLinkedin\\n \\n\\n\\n\\nInstagram\\n \\n\\n\\n\\n\\n\\n\\n\\nThe latest Groq news. Delivered to your inbox.', metadata={'source': 'https://groq.com/careers/'})]"
      ]
     },
     "execution_count": 15,
     "metadata": {},
     "output_type": "execute_result"
    }
   ],
   "source": [
    "splits"
   ]
  },
  {
   "cell_type": "code",
   "execution_count": 25,
   "id": "37538025",
   "metadata": {},
   "outputs": [],
   "source": [
    "vectorStore =  Chroma.from_documents(documents=splits, embedding=embeddings, persist_directory=\"check_conversation\")\n",
    "retriever = vectorStore.as_retriever"
   ]
  },
  {
   "cell_type": "code",
   "execution_count": 26,
   "id": "e2622b40",
   "metadata": {},
   "outputs": [],
   "source": [
    "## Prompt Template \n",
    "system_prompt = \"\"\"You are a helpful assistant. You will be given a question and a context. Your task is to answer the question based on the context provided.\n",
    "If the context does not contain enough information to answer the question, respond with \"I don't know\".\n",
    "\"{context}\"\"\"\n",
    "prompt = ChatPromptTemplate.from_messages([\n",
    "    (\"system\", system_prompt),\n",
    "    (\"human\", \"{input}\"),\n",
    "])"
   ]
  },
  {
   "cell_type": "code",
   "execution_count": 33,
   "id": "df9c65ef",
   "metadata": {},
   "outputs": [],
   "source": [
    "from langchain.chains import create_retrieval_chain\n",
    "retriever = vectorStore.as_retriever\n",
    "combine_docs_chain = create_stuff_documents_chain(llm=llm, prompt=prompt)\n",
    "rag_chain = create_retrieval_chain(retriever=retriever(), combine_docs_chain=combine_docs_chain)\n"
   ]
  },
  {
   "cell_type": "code",
   "execution_count": 40,
   "id": "531da4bd",
   "metadata": {},
   "outputs": [],
   "source": [
    "response = rag_chain.invoke({\"input\": \"whats is they are assembling?\"})"
   ]
  },
  {
   "cell_type": "code",
   "execution_count": 41,
   "id": "138589a1",
   "metadata": {},
   "outputs": [
    {
     "data": {
      "text/plain": [
       "{'input': 'whats is they are assembling?',\n",
       " 'context': [Document(page_content='Videos\\n\\n\\n\\n\\n\\n\\n\\n\\n\\n\\n\\n \\n\\t\\t\\t\\t\\t\\t\\tAbout\\t\\t\\t\\t\\t\\t\\n \\n\\n Close About\\n\\n\\n Open About\\n\\n\\n\\n\\n\\n\\n\\n\\n\\n\\nAbout Groq\\n\\n\\n\\n\\nIn the News\\n\\n\\n\\n\\nTeam\\n\\n\\n\\n\\nCareers\\n\\n\\n\\n\\n\\n\\n\\n\\n\\n\\n\\n\\n\\n\\n\\nDev\\xa0Console\\n\\n\\n\\n\\n\\n\\n \\n\\n\\n\\n\\n\\n\\n \\n\\n\\n\\n\\n\\n\\n\\n\\n\\n\\n\\n\\n\\nGroq Hires Exceptional Talent \\nAt Groq, we believe AI will change humanity forever, and that making it affordable and universally accessible is the key to human agency in an AI economy.\\xa0We’re assembling a team of world-class engineers and business minds who believe in this mission. We’re hiring problem-solvers with the skills and desire to build a business that leaves a fingerprint on civilization.\\xa0 \\nOur Values \\nWe value curiosity and humility. Every Groqster is a lifelong learner, eager to expand their capabilities while courageous enough to bring others along for the journey. If this resonates, explore opportunities below to join the team redefining compute.', metadata={'source': 'https://groq.com/careers/'}),\n",
       "  Document(page_content='Videos\\n\\n\\n\\n\\n\\n\\n\\n\\n\\n\\n\\n \\n\\t\\t\\t\\t\\t\\t\\tAbout\\t\\t\\t\\t\\t\\t\\n \\n\\n Close About\\n\\n\\n Open About\\n\\n\\n\\n\\n\\n\\n\\n\\n\\n\\nAbout Groq\\n\\n\\n\\n\\nIn the News\\n\\n\\n\\n\\nTeam\\n\\n\\n\\n\\nCareers\\n\\n\\n\\n\\n\\n\\n\\n\\n\\n\\n\\n\\n\\n\\n\\nDev\\xa0Console\\n\\n\\n\\n\\n\\n\\n \\n\\n\\n\\n\\n\\n\\n \\n\\n\\n\\n\\n\\n\\n\\n\\n\\n\\n\\n\\n\\nGroq Hires Exceptional Talent \\nAt Groq, we believe AI will change humanity forever, and that making it affordable and universally accessible is the key to human agency in an AI economy.\\xa0We’re assembling a team of world-class engineers and business minds who believe in this mission. We’re hiring problem-solvers with the skills and desire to build a business that leaves a fingerprint on civilization.\\xa0 \\nOur Values \\nWe value curiosity and humility. Every Groqster is a lifelong learner, eager to expand their capabilities while courageous enough to bring others along for the journey. If this resonates, explore opportunities below to join the team redefining compute.', metadata={'source': 'https://groq.com/careers/'}),\n",
       "  Document(page_content='Videos\\n\\n\\n\\n\\n\\n\\n\\n\\n\\n\\n\\n \\n\\t\\t\\t\\t\\t\\t\\tAbout\\t\\t\\t\\t\\t\\t\\n \\n\\n Close About\\n\\n\\n Open About\\n\\n\\n\\n\\n\\n\\n\\n\\n\\n\\nAbout Groq\\n\\n\\n\\n\\nIn the News\\n\\n\\n\\n\\nTeam\\n\\n\\n\\n\\nCareers\\n\\n\\n\\n\\n\\n\\n\\n\\n\\n\\n\\n\\n\\n\\n\\nDev\\xa0Console\\n\\n\\n\\n\\n\\n\\n \\n\\n\\n\\n\\n\\n\\n \\n\\n\\n\\n\\n\\n\\n\\n\\n\\n\\n\\n\\n\\nGroq Hires Exceptional Talent \\nAt Groq, we believe AI will change humanity forever, and that making it affordable and universally accessible is the key to human agency in an AI economy.\\xa0We’re assembling a team of world-class engineers and business minds who believe in this mission. We’re hiring problem-solvers with the skills and desire to build a business that leaves a fingerprint on civilization.\\xa0 \\nOur Values \\nWe value curiosity and humility. Every Groqster is a lifelong learner, eager to expand their capabilities while courageous enough to bring others along for the journey. If this resonates, explore opportunities below to join the team redefining compute.', metadata={'source': 'https://groq.com/careers/'}),\n",
       "  Document(page_content='Now in Preview: Groq’s First Compound AI System. \\n\\n\\n\\n\\n\\n\\nTry Now &\\n\\n\\n\\n\\n\\n\\n\\n\\n\\n\\nLearn More. \\n\\n\\n\\n\\n\\n\\n\\n\\n\\n\\n\\n\\n\\nLlama 4 is live on GroqCloud™. \\n\\n\\n\\n\\n\\n\\nLearn more &\\n\\n\\n\\n\\n\\n\\n\\n\\n\\n\\ntry now.\\n\\n\\n\\n\\n\\n\\n\\n\\n\\n\\n\\n\\n\\nGroq Launches First TTS Model, PlayAI Dialog, Making Voice AI Sound More Human.  \\n\\n\\n\\n\\n\\n\\nTry Now &\\n\\n\\n\\n\\n\\n\\n\\n\\n\\n\\nLearn More\\n\\n\\n\\n\\n\\n\\n\\n\\n\\n\\n\\n\\n\\nGroqCloud™ Self-serve Developer Tier now available! \\n\\n\\n\\n\\n\\n\\nLearn more.\\n\\n\\n\\n\\n\\n\\n\\n\\n\\n\\n\\n \\n\\n \\n\\n\\n\\n\\n \\n\\n \\n\\n\\n\\n\\n\\n \\n\\t\\t\\t\\t\\t\\t\\tProducts\\t\\t\\t\\t\\t\\t\\n \\n\\n Close Products\\n\\n\\n Open Products\\n\\n\\n\\n\\n\\n\\n\\n\\n\\n\\nPricing\\n\\n\\n\\n\\nProducts Overview\\n\\n\\n\\n\\nEnterprise Access\\n\\n\\n\\n\\nGroqCloud™ Platform\\n\\n\\n\\n\\nGroqRack™ Cluster\\n\\n\\n\\n\\n\\n\\n\\n\\n\\n\\n \\n\\t\\t\\t\\t\\t\\t\\tDevelopers\\t\\t\\t\\t\\t\\t\\n \\n\\n Close Developers\\n\\n\\n Open Developers\\n\\n\\n\\n\\n\\n\\n\\n\\n\\n\\n\\nFree API Key \\xa0\\n\\n\\n\\n\\nStart Building \\xa0\\n\\n\\n\\n\\nDiscord  \\xa0\\n\\n\\n\\n\\nGroq Libraries  \\xa0\\n\\n\\n\\n\\nCommunity\\n\\n\\n\\n\\nShowcase\\n\\n\\n\\n\\n\\n\\n\\n\\n\\n\\n\\n \\n\\t\\t\\t\\t\\t\\t\\tInsights\\t\\t\\t\\t\\t\\t\\n \\n\\n Close Insights\\n\\n\\n Open Insights\\n\\n\\n\\n\\n\\n\\n\\n\\n\\n\\n\\nInference\\n\\n\\n\\n\\nCustomer Use Cases\\n\\n\\n\\n\\nBlog\\n\\n\\n\\n\\nPapers\\n\\n\\n\\n\\nEvents\\n\\n\\n\\n\\nPress Releases\\n\\n\\n\\n\\nVideos\\n\\n\\n\\n\\n\\n\\n\\n\\n\\n\\n\\n \\n\\t\\t\\t\\t\\t\\t\\tAbout', metadata={'source': 'https://groq.com/careers/'})],\n",
       " 'answer': 'According to the context, Groq is \"assembling a team of world-class engineers and business minds who believe in this mission.\"'}"
      ]
     },
     "execution_count": 41,
     "metadata": {},
     "output_type": "execute_result"
    }
   ],
   "source": [
    "response"
   ]
  },
  {
   "cell_type": "code",
   "execution_count": null,
   "id": "0ae22b4a",
   "metadata": {},
   "outputs": [],
   "source": []
  }
 ],
 "metadata": {
  "kernelspec": {
   "display_name": "myenv",
   "language": "python",
   "name": "python3"
  },
  "language_info": {
   "codemirror_mode": {
    "name": "ipython",
    "version": 3
   },
   "file_extension": ".py",
   "mimetype": "text/x-python",
   "name": "python",
   "nbconvert_exporter": "python",
   "pygments_lexer": "ipython3",
   "version": "3.12.10"
  }
 },
 "nbformat": 4,
 "nbformat_minor": 5
}
